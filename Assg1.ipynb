{
 "cells": [
  {
   "cell_type": "markdown",
   "id": "0be14cec",
   "metadata": {},
   "source": [
    "# Task 1"
   ]
  },
  {
   "cell_type": "code",
   "execution_count": 1,
   "id": "1aa2ba30",
   "metadata": {},
   "outputs": [
    {
     "name": "stdout",
     "output_type": "stream",
     "text": [
      "Dataset Shape: (9357, 15) \n",
      "\n",
      "Number of instances: 9357\n",
      "\n",
      "Number of Features: 15\n",
      "\n",
      "Features: ['Date', 'Time', 'CO(GT)', 'PT08.S1(CO)', 'NMHC(GT)', 'C6H6(GT)', 'PT08.S2(NMHC)', 'NOx(GT)', 'PT08.S3(NOx)', 'NO2(GT)', 'PT08.S4(NO2)', 'PT08.S5(O3)', 'T', 'RH', 'AH'] \n",
      "\n",
      "First Few Rows:\n",
      "\n",
      "        Date      Time  CO(GT)  PT08.S1(CO)  NMHC(GT)   C6H6(GT)  \\\n",
      "0 2004-03-10  18:00:00     2.6      1360.00       150  11.881723   \n",
      "1 2004-03-10  19:00:00     2.0      1292.25       112   9.397165   \n",
      "2 2004-03-10  20:00:00     2.2      1402.00        88   8.997817   \n",
      "3 2004-03-10  21:00:00     2.2      1375.50        80   9.228796   \n",
      "4 2004-03-10  22:00:00     1.6      1272.25        51   6.518224   \n",
      "\n",
      "   PT08.S2(NMHC)  NOx(GT)  PT08.S3(NOx)  NO2(GT)  PT08.S4(NO2)  PT08.S5(O3)  \\\n",
      "0        1045.50    166.0       1056.25    113.0       1692.00      1267.50   \n",
      "1         954.75    103.0       1173.75     92.0       1558.75       972.25   \n",
      "2         939.25    131.0       1140.00    114.0       1554.50      1074.00   \n",
      "3         948.25    172.0       1092.00    122.0       1583.75      1203.25   \n",
      "4         835.50    131.0       1205.00    116.0       1490.00      1110.00   \n",
      "\n",
      "       T         RH        AH  \n",
      "0  13.60  48.875001  0.757754  \n",
      "1  13.30  47.700000  0.725487  \n",
      "2  11.90  53.975000  0.750239  \n",
      "3  11.00  60.000000  0.786713  \n",
      "4  11.15  59.575001  0.788794  \n"
     ]
    }
   ],
   "source": [
    "import pandas as pd\n",
    "\n",
    "# Load the dataset\n",
    "df = pd.read_excel('AirQualityUCI.xlsx')\n",
    "\n",
    "# Print dataset description\n",
    "print(\"Dataset Shape:\", df.shape,\"\\n\")\n",
    "print(f\"Number of instances: {df.shape[0]}\\n\")\n",
    "print (f\"Number of Features: {df.shape[1]}\\n\")\n",
    "print(\"Features:\", df.columns.tolist(),\"\\n\")\n",
    "print(\"First Few Rows:\\n\")\n",
    "print(df.head())\n"
   ]
  },
  {
   "cell_type": "markdown",
   "id": "51c0a623",
   "metadata": {},
   "source": [
    "# Task 2\n"
   ]
  },
  {
   "cell_type": "code",
   "execution_count": 2,
   "id": "bae62fd2",
   "metadata": {},
   "outputs": [
    {
     "name": "stdout",
     "output_type": "stream",
     "text": [
      "The most important attribute based on correlation with all others is 'PT08.S1(CO)' with a total correlation sum of 6.52\n"
     ]
    }
   ],
   "source": [
    "# Drop 'Date' and 'Time' columns as they are unique ID columns for correlation analysis\n",
    "df_numeric = df.drop(columns=['Date', 'Time'])\n",
    "\n",
    "# Compute the correlation matrix\n",
    "correlation_matrix = df_numeric.corr().abs()\n",
    "\n",
    "# For each attribute, sum the absolute correlations with all other attributes\n",
    "# Subtract 1 from the diagonal (correlation of the attribute with itself)A\n",
    "sum_of_correlations = correlation_matrix.sum() - 1\n",
    "\n",
    "# Find the attribute with the highest sum of correlations\n",
    "most_influential_attribute = sum_of_correlations.idxmax()\n",
    "max_sum_of_correlations = sum_of_correlations.max()\n",
    "\n",
    "# Print the most important attribute\n",
    "print(f\"The most important attribute based on correlation with all others is '{most_influential_attribute}' with a total correlation sum of {max_sum_of_correlations:.2f}\")\n"
   ]
  },
  {
   "cell_type": "code",
   "execution_count": 3,
   "id": "ab9afc39",
   "metadata": {},
   "outputs": [
    {
     "name": "stdout",
     "output_type": "stream",
     "text": [
      "Mean of PT08.S1(CO): 1048.87\n",
      "Median of PT08.S1(CO): 1052.50\n",
      "Mode of PT08.S1(CO): -200.00\n",
      "Standard Deviation of PT08.S1(CO): 329.82\n",
      "Variance of PT08.S1(CO): 108779.26\n",
      "Min of PT08.S1(CO): -200.00\n",
      "Max of PT08.S1(CO): 2039.75\n",
      "Range of PT08.S1(CO): 2239.75\n",
      "\n"
     ]
    },
    {
     "data": {
      "image/png": "[encoded data removed]",
      "text/plain": [
       "<Figure size 640x480 with 1 Axes>"
      ]
     },
     "metadata": {},
     "output_type": "display_data"
    }
   ],
   "source": [
    "import pandas as pd\n",
    "import matplotlib.pyplot as plt\n",
    "\n",
    "# Load the dataset\n",
    "df = pd.read_excel('AirQualityUCI.xlsx')\n",
    "\n",
    "# Select a numerical attribute for analysis\n",
    "attribute = 'PT08.S1(CO)'\n",
    "\n",
    "# Compute measures of central tendency and dispersion\n",
    "mean_value = df[attribute].mean()\n",
    "median_value = df[attribute].median()\n",
    "mode_value = df[attribute].mode()[0]\n",
    "std_dev = df[attribute].std()\n",
    "variance = df[attribute].var()\n",
    "min_value = df[attribute].min()\n",
    "max_value = df[attribute].max()\n",
    "range_value = max_value - min_value\n",
    "\n",
    "# Print results\n",
    "print(f\"Mean of {attribute}: {mean_value:.2f}\")\n",
    "print(f\"Median of {attribute}: {median_value:.2f}\")\n",
    "print(f\"Mode of {attribute}: {mode_value:.2f}\")\n",
    "print(f\"Standard Deviation of {attribute}: {std_dev:.2f}\")\n",
    "print(f\"Variance of {attribute}: {variance:.2f}\")\n",
    "print(f\"Min of {attribute}: {min_value:.2f}\")\n",
    "print(f\"Max of {attribute}: {max_value:.2f}\")\n",
    "print(f\"Range of {attribute}: {range_value:.2f}\\n\")\n",
    "\n",
    "# Visualization\n",
    "\n",
    "plt.hist(df[attribute].dropna(), bins=30, edgecolor='k', alpha=0.7)\n",
    "plt.title(f'Distribution of {attribute}')\n",
    "plt.xlabel(attribute)\n",
    "plt.ylabel('Frequency')\n",
    "plt.savefig('histogram.png')\n",
    "plt.show()"
   ]
  },
  {
   "cell_type": "code",
   "execution_count": 4,
   "id": "4d3df7f5",
   "metadata": {},
   "outputs": [
    {
     "name": "stdout",
     "output_type": "stream",
     "text": [
      "Number of missing values (including -200): 366\n"
     ]
    }
   ],
   "source": [
    "# Print no. of missing values\n",
    "missing_count = ((df[attribute] == -200)).sum()\n",
    "print(f\"Number of missing values (including -200): {missing_count}\")"
   ]
  },
  {
   "cell_type": "code",
   "execution_count": 5,
   "id": "67c749bd",
   "metadata": {},
   "outputs": [
    {
     "name": "stdout",
     "output_type": "stream",
     "text": [
      "0\n"
     ]
    },
    {
     "name": "stderr",
     "output_type": "stream",
     "text": [
      "C:\\Users\\ASUS\\AppData\\Local\\Temp\\ipykernel_5856\\2424072556.py:8: FutureWarning: Downcasting object dtype arrays on .fillna, .ffill, .bfill is deprecated and will change in a future version. Call result.infer_objects(copy=False) instead. To opt-in to the future behavior, set `pd.set_option('future.no_silent_downcasting', True)`\n",
      "  df[attribute] = df[attribute].fillna(median_value).infer_objects(copy=False)\n"
     ]
    }
   ],
   "source": [
    "# Replace -200 values with NaN so we can handle them consistently as missing values\n",
    "df[attribute] = df[attribute].replace(-200, pd.NA)\n",
    "\n",
    "# Compute the median value for the attribute\n",
    "median_value = df[attribute].median()\n",
    "\n",
    "# Fill missing values (both NaN and previously -200) with the median\n",
    "df[attribute] = df[attribute].fillna(median_value).infer_objects(copy=False)\n",
    "\n",
    "# Verify if missing values are handled\n",
    "print(df[attribute].isnull().sum())  # Should print 0 if all missing values are filled\n"
   ]
  },
  {
   "cell_type": "code",
   "execution_count": 6,
   "id": "9168b6c3",
   "metadata": {},
   "outputs": [
    {
     "data": {
      "image/png": "[encoded data removed]",
      "text/plain": [
       "<Figure size 640x480 with 1 Axes>"
      ]
     },
     "metadata": {},
     "output_type": "display_data"
    }
   ],
   "source": [
    "import seaborn as sns\n",
    "import matplotlib.pyplot as plt\n",
    "\n",
    "# Seaborn histogram (with KDE curve)\n",
    "sns.histplot(df[attribute].dropna(), bins=30, kde=True, color='skyblue', edgecolor='black', alpha=0.7)\n",
    "\n",
    "# Adding labels and title\n",
    "plt.title(f'Distribution of {attribute}', fontsize=14)\n",
    "plt.xlabel(attribute, fontsize=12)\n",
    "plt.ylabel('Frequency', fontsize=12)\n",
    "\n",
    "# Saving and displaying the plot\n",
    "plt.savefig('sns_histogram_after_handling_missing_values.png')\n",
    "plt.show()\n"
   ]
  },
  {
   "cell_type": "code",
   "execution_count": 7,
   "id": "d2ea48ce",
   "metadata": {},
   "outputs": [
    {
     "name": "stdout",
     "output_type": "stream",
     "text": [
      "Mean: 1098.27202450928\n",
      "Median: 1063.0\n",
      "Mode: 1063.0\n",
      "Standard Deviation: 212.91509327233845\n",
      "Variance: 45332.83694316858\n",
      "Range: 1392.5\n",
      "IQR (Interquartile Range): 280.0\n"
     ]
    }
   ],
   "source": [
    "import numpy as np\n",
    "import pandas as pd\n",
    "\n",
    "# Replace -200 values with NaN and fill missing values with median\n",
    "df[attribute] = df[attribute].replace(-200, pd.NA)\n",
    "median_value = df[attribute].median()\n",
    "df[attribute] = df[attribute].fillna(median_value)\n",
    "\n",
    "# Central tendency\n",
    "mean_value = df[attribute].mean()\n",
    "median_value = df[attribute].median()\n",
    "mode_value = df[attribute].mode().values[0]  # Mode might return multiple values, taking the first\n",
    "\n",
    "# Measures of dispersion\n",
    "std_deviation = df[attribute].std()  # Standard deviation\n",
    "variance_value = df[attribute].var()  # Variance\n",
    "range_value = df[attribute].max() - df[attribute].min()  # Range\n",
    "iqr_value = np.percentile(df[attribute], 75) - np.percentile(df[attribute], 25)  # Interquartile range\n",
    "\n",
    "# Output results\n",
    "print(f\"Mean: {mean_value}\")\n",
    "print(f\"Median: {median_value}\")\n",
    "print(f\"Mode: {mode_value}\")\n",
    "print(f\"Standard Deviation: {std_deviation}\")\n",
    "print(f\"Variance: {variance_value}\")\n",
    "print(f\"Range: {range_value}\")\n",
    "print(f\"IQR (Interquartile Range): {iqr_value}\")\n"
   ]
  },
  {
   "cell_type": "code",
   "execution_count": 8,
   "id": "5c2110f1",
   "metadata": {},
   "outputs": [
    {
     "data": {
      "image/png": "[encoded data removed]",
      "text/plain": [
       "<Figure size 1000x600 with 1 Axes>"
      ]
     },
     "metadata": {},
     "output_type": "display_data"
    },
    {
     "name": "stdout",
     "output_type": "stream",
     "text": [
      "Number of outliers: 72\n"
     ]
    }
   ],
   "source": [
    "import seaborn as sns\n",
    "import matplotlib.pyplot as plt\n",
    "from scipy import stats\n",
    "\n",
    "# Attribute to analyze\n",
    "attribute = 'PT08.S1(CO)'\n",
    "\n",
    "# Box plot to identify outliers\n",
    "plt.figure(figsize=(10, 6))  # Optional: Set figure size for better visibility\n",
    "sns.boxplot(x=df[attribute])\n",
    "plt.title('Box Plot of ' + attribute)\n",
    "\n",
    "# Save the plot as an image file (e.g., PNG)\n",
    "plt.savefig('boxplot_' + attribute + '.png', format='png', dpi=300)\n",
    "\n",
    "# Show the plot\n",
    "plt.show()\n",
    "\n",
    "# Z-score to identify outliers\n",
    "z_scores = stats.zscore(df[attribute].dropna())\n",
    "outliers = df[attribute][abs(z_scores) > 3]\n",
    "print(\"Number of outliers:\", outliers.shape[0])\n"
   ]
  },
  {
   "cell_type": "markdown",
   "id": "810ab4fa",
   "metadata": {},
   "source": [
    "# Task 3"
   ]
  },
  {
   "cell_type": "code",
   "execution_count": 9,
   "id": "68d313b5",
   "metadata": {},
   "outputs": [
    {
     "name": "stdout",
     "output_type": "stream",
     "text": [
      "Normalized values of PT08.S1(CO):\n",
      "   PT08.S1(CO)  PT08.S1(CO)_normalized\n",
      "0      1360.00                0.511849\n",
      "1      1292.25                0.463196\n",
      "2      1402.00                0.542011\n",
      "3      1375.50                0.522980\n",
      "4      1272.25                0.448833\n"
     ]
    },
    {
     "name": "stderr",
     "output_type": "stream",
     "text": [
      "C:\\Users\\ASUS\\AppData\\Local\\Temp\\ipykernel_5856\\1415268321.py:15: FutureWarning: Downcasting object dtype arrays on .fillna, .ffill, .bfill is deprecated and will change in a future version. Call result.infer_objects(copy=False) instead. To opt-in to the future behavior, set `pd.set_option('future.no_silent_downcasting', True)`\n",
      "  df[attribute] = df[attribute].fillna(median_value)\n"
     ]
    }
   ],
   "source": [
    "import pandas as pd\n",
    "from sklearn.preprocessing import MinMaxScaler\n",
    "\n",
    "# Load the dataset\n",
    "df = pd.read_excel('AirQualityUCI.xlsx')\n",
    "\n",
    "# Select an attribute for normalization\n",
    "attribute = 'PT08.S1(CO)'\n",
    "\n",
    "# Replace erroneous values (-200) with NaN for proper missing value handling\n",
    "df[attribute] = df[attribute].replace(-200, pd.NA)\n",
    "\n",
    "# Fill missing values in the selected attribute with its median\n",
    "median_value = df[attribute].median()\n",
    "df[attribute] = df[attribute].fillna(median_value)\n",
    "\n",
    "# Normalize the attribute\n",
    "scaler = MinMaxScaler()\n",
    "df[attribute + '_normalized'] = scaler.fit_transform(df[[attribute]])\n",
    "\n",
    "# Print results\n",
    "print(f\"Normalized values of {attribute}:\")\n",
    "print(df[[attribute, attribute + '_normalized']].head())\n"
   ]
  },
  {
   "cell_type": "markdown",
   "id": "8979b583",
   "metadata": {},
   "source": [
    "# Task 4"
   ]
  },
  {
   "cell_type": "code",
   "execution_count": 10,
   "id": "c43ae570",
   "metadata": {},
   "outputs": [
    {
     "name": "stdout",
     "output_type": "stream",
     "text": [
      "Pairwise Similarity Scores:\n",
      "Pair (0, 1): Similarity Score = 0.4121292782230053\n",
      "Pair (0, 2): Similarity Score = 0.9681097808682699\n",
      "Pair (0, 3): Similarity Score = -0.5450987495301508\n",
      "Pair (0, 4): Similarity Score = 0.231928918784734\n",
      "Pair (0, 5): Similarity Score = 0.4078825110923374\n",
      "Pair (0, 6): Similarity Score = -0.32567853650705086\n",
      "Pair (0, 7): Similarity Score = -0.6119050477222338\n",
      "Pair (0, 8): Similarity Score = 0.3933125989986351\n",
      "Pair (0, 9): Similarity Score = -0.346061334591085\n",
      "Pair (0, 10): Similarity Score = -0.5526115379669827\n",
      "Pair (0, 11): Similarity Score = -0.24117828778813988\n",
      "Pair (0, 12): Similarity Score = 0.06945698496331038\n",
      "Pair (0, 13): Similarity Score = 0.1373572027329303\n",
      "Pair (0, 14): Similarity Score = -0.5234065091161466\n",
      "Pair (0, 15): Similarity Score = 0.06231054340282221\n",
      "Pair (0, 16): Similarity Score = -0.5331376734855943\n",
      "Pair (0, 17): Similarity Score = 0.1727644161912974\n",
      "Pair (0, 18): Similarity Score = -0.43943158302240126\n",
      "Pair (0, 19): Similarity Score = -0.49189637533519465\n",
      "Pair (1, 2): Similarity Score = 0.23163994563117418\n",
      "Pair (1, 3): Similarity Score = -0.8323066022036141\n",
      "Pair (1, 4): Similarity Score = 0.7756398729773674\n",
      "Pair (1, 5): Similarity Score = 0.6453372750406506\n",
      "Pair (1, 6): Similarity Score = -0.341461324812954\n",
      "Pair (1, 7): Similarity Score = -0.5945819656263711\n",
      "Pair (1, 8): Similarity Score = 0.9672451825977034\n",
      "Pair (1, 9): Similarity Score = -0.699374848171179\n",
      "Pair (1, 10): Similarity Score = -0.6643606517622351\n",
      "Pair (1, 11): Similarity Score = -0.09147571330196254\n",
      "Pair (1, 12): Similarity Score = 0.22555342340633905\n",
      "Pair (1, 13): Similarity Score = 0.11592034867723314\n",
      "Pair (1, 14): Similarity Score = -0.8398107902298766\n",
      "Pair (1, 15): Similarity Score = 0.7521871239279104\n",
      "Pair (1, 16): Similarity Score = -0.7756943931867931\n",
      "Pair (1, 17): Similarity Score = 0.6403492414109174\n",
      "Pair (1, 18): Similarity Score = -0.5904672956805199\n",
      "Pair (1, 19): Similarity Score = -0.821274857442045\n",
      "Pair (2, 3): Similarity Score = -0.41162372690551285\n",
      "Pair (2, 4): Similarity Score = 0.10495350705030672\n",
      "Pair (2, 5): Similarity Score = 0.2508857442411437\n",
      "Pair (2, 6): Similarity Score = -0.3319512034851509\n",
      "Pair (2, 7): Similarity Score = -0.5659796096966184\n",
      "Pair (2, 8): Similarity Score = 0.2503182776215478\n",
      "Pair (2, 9): Similarity Score = -0.20810345958830145\n",
      "Pair (2, 10): Similarity Score = -0.4766055998314164\n",
      "Pair (2, 11): Similarity Score = -0.2810648762076345\n",
      "Pair (2, 12): Similarity Score = -0.003583631333919885\n",
      "Pair (2, 13): Similarity Score = 0.0565548417276774\n",
      "Pair (2, 14): Similarity Score = -0.4049049354003453\n",
      "Pair (2, 15): Similarity Score = -0.050664731437284075\n",
      "Pair (2, 16): Similarity Score = -0.4184547319981339\n",
      "Pair (2, 17): Similarity Score = 0.07837918823067937\n",
      "Pair (2, 18): Similarity Score = -0.310863685409914\n",
      "Pair (2, 19): Similarity Score = -0.35021544493914325\n",
      "Pair (3, 4): Similarity Score = -0.5391003064864942\n",
      "Pair (3, 5): Similarity Score = -0.7898492334036702\n",
      "Pair (3, 6): Similarity Score = 0.2782434781753027\n",
      "Pair (3, 7): Similarity Score = 0.5029570198617807\n",
      "Pair (3, 8): Similarity Score = -0.7745078968385094\n",
      "Pair (3, 9): Similarity Score = 0.4747323997684854\n",
      "Pair (3, 10): Similarity Score = 0.7481440779328964\n",
      "Pair (3, 11): Similarity Score = 0.1542811731053108\n",
      "Pair (3, 12): Similarity Score = -0.33807786041338683\n",
      "Pair (3, 13): Similarity Score = -0.3994749979706754\n",
      "Pair (3, 14): Similarity Score = 0.9516621953400606\n",
      "Pair (3, 15): Similarity Score = -0.49654141332253066\n",
      "Pair (3, 16): Similarity Score = 0.8345405075921425\n",
      "Pair (3, 17): Similarity Score = -0.5487011146367412\n",
      "Pair (3, 18): Similarity Score = 0.8237842214204087\n",
      "Pair (3, 19): Similarity Score = 0.5751477138582554\n",
      "Pair (4, 5): Similarity Score = 0.36487101537530037\n",
      "Pair (4, 6): Similarity Score = 0.06042438140998745\n",
      "Pair (4, 7): Similarity Score = -0.19361969208561644\n",
      "Pair (4, 8): Similarity Score = 0.741383174062953\n",
      "Pair (4, 9): Similarity Score = -0.9267256607483244\n",
      "Pair (4, 10): Similarity Score = -0.2030425066409945\n",
      "Pair (4, 11): Similarity Score = -0.5522742396768738\n",
      "Pair (4, 12): Similarity Score = 0.5653920800453955\n",
      "Pair (4, 13): Similarity Score = -0.31800115326413636\n",
      "Pair (4, 14): Similarity Score = -0.5503413097793551\n",
      "Pair (4, 15): Similarity Score = 0.6776118385154007\n",
      "Pair (4, 16): Similarity Score = -0.31120588985850045\n",
      "Pair (4, 17): Similarity Score = 0.879245195575032\n",
      "Pair (4, 18): Similarity Score = -0.5509341236051483\n",
      "Pair (4, 19): Similarity Score = -0.9319892026724532\n",
      "Pair (5, 6): Similarity Score = 0.08028428343351103\n",
      "Pair (5, 7): Similarity Score = -0.2960787117261073\n",
      "Pair (5, 8): Similarity Score = 0.49898632754949546\n",
      "Pair (5, 9): Similarity Score = -0.35985557908914517\n",
      "Pair (5, 10): Similarity Score = -0.6227508705478286\n",
      "Pair (5, 11): Similarity Score = -0.11368129212130754\n",
      "Pair (5, 12): Similarity Score = 0.4569027579953382\n",
      "Pair (5, 13): Similarity Score = 0.7498176997666844\n",
      "Pair (5, 14): Similarity Score = -0.6754065950417607\n",
      "Pair (5, 15): Similarity Score = 0.059866418037081724\n",
      "Pair (5, 16): Similarity Score = -0.6789052941790543\n",
      "Pair (5, 17): Similarity Score = 0.3282136637196062\n",
      "Pair (5, 18): Similarity Score = -0.8200081250174155\n",
      "Pair (5, 19): Similarity Score = -0.43389683505816445\n",
      "Pair (6, 7): Similarity Score = 0.6763980737468306\n",
      "Pair (6, 8): Similarity Score = -0.5032087528183786\n",
      "Pair (6, 9): Similarity Score = -0.20943149844392864\n",
      "Pair (6, 10): Similarity Score = 0.6925132240837168\n",
      "Pair (6, 11): Similarity Score = -0.42472497935290965\n",
      "Pair (6, 12): Similarity Score = 0.6044692247995849\n",
      "Pair (6, 13): Similarity Score = 0.11217186247870597\n",
      "Pair (6, 14): Similarity Score = 0.47048627254533526\n",
      "Pair (6, 15): Similarity Score = -0.41122024704568716\n",
      "Pair (6, 16): Similarity Score = 0.6418691521815671\n",
      "Pair (6, 17): Similarity Score = 0.0061355807469536715\n",
      "Pair (6, 18): Similarity Score = -0.22661887762433536\n",
      "Pair (6, 19): Similarity Score = 0.01815169797508456\n",
      "Pair (7, 8): Similarity Score = -0.6637687295077674\n",
      "Pair (7, 9): Similarity Score = 0.23324927378284474\n",
      "Pair (7, 10): Similarity Score = 0.6863945121997966\n",
      "Pair (7, 11): Similarity Score = -0.13916769373269436\n",
      "Pair (7, 12): Similarity Score = 0.34559450905281325\n",
      "Pair (7, 13): Similarity Score = -0.1455974418927969\n",
      "Pair (7, 14): Similarity Score = 0.556231299515227\n",
      "Pair (7, 15): Similarity Score = -0.4597507625768955\n",
      "Pair (7, 16): Similarity Score = 0.6507439804660664\n",
      "Pair (7, 17): Similarity Score = -0.10941219313095704\n",
      "Pair (7, 18): Similarity Score = 0.06518222670386348\n",
      "Pair (7, 19): Similarity Score = 0.41661458752156744\n",
      "Pair (8, 9): Similarity Score = -0.6153482565082444\n",
      "Pair (8, 10): Similarity Score = -0.7113697362156868\n",
      "Pair (8, 11): Similarity Score = -0.05589806080202007\n",
      "Pair (8, 12): Similarity Score = 0.08898163429682232\n",
      "Pair (8, 13): Similarity Score = -0.019011146004073616\n",
      "Pair (8, 14): Similarity Score = -0.8331446726779633\n",
      "Pair (8, 15): Similarity Score = 0.7951693978439554\n",
      "Pair (8, 16): Similarity Score = -0.7946486727248565\n",
      "Pair (8, 17): Similarity Score = 0.6225583413935695\n",
      "Pair (8, 18): Similarity Score = -0.44703444571077816\n",
      "Pair (8, 19): Similarity Score = -0.7700632184253802\n",
      "Pair (9, 10): Similarity Score = 0.0510079952164931\n",
      "Pair (9, 11): Similarity Score = 0.5957920051367889\n",
      "Pair (9, 12): Similarity Score = -0.5830486531923621\n",
      "Pair (9, 13): Similarity Score = 0.2549663524352701\n",
      "Pair (9, 14): Similarity Score = 0.4194732972480083\n",
      "Pair (9, 15): Similarity Score = -0.6008306942932096\n",
      "Pair (9, 16): Similarity Score = 0.16982706765625288\n",
      "Pair (9, 17): Similarity Score = -0.7787414804635437\n",
      "Pair (9, 18): Similarity Score = 0.5472124239214944\n",
      "Pair (9, 19): Similarity Score = 0.9539848392705926\n",
      "Pair (10, 11): Similarity Score = -0.1809889669816563\n",
      "Pair (10, 12): Similarity Score = 0.08353079507422326\n",
      "Pair (10, 13): Similarity Score = -0.410912587899639\n",
      "Pair (10, 14): Similarity Score = 0.8389534980407292\n",
      "Pair (10, 15): Similarity Score = -0.26710463698031195\n",
      "Pair (10, 16): Similarity Score = 0.9676307265968802\n",
      "Pair (10, 17): Similarity Score = -0.24288078792361367\n",
      "Pair (10, 18): Similarity Score = 0.42405159798400466\n",
      "Pair (10, 19): Similarity Score = 0.29135630090862874\n",
      "Pair (11, 12): Similarity Score = -0.7501020776555817\n",
      "Pair (11, 13): Similarity Score = 0.29513915424754733\n",
      "Pair (11, 14): Similarity Score = 0.09074364713523474\n",
      "Pair (11, 15): Similarity Score = -0.008488703280026088\n",
      "Pair (11, 16): Similarity Score = -0.1837788192844962\n",
      "Pair (11, 17): Similarity Score = -0.6683648931936321\n",
      "Pair (11, 18): Similarity Score = 0.44984917160910176\n",
      "Pair (11, 19): Similarity Score = 0.4884623198659669\n",
      "Pair (12, 13): Similarity Score = 0.07311519076306305\n",
      "Pair (12, 14): Similarity Score = -0.26399494240074606\n",
      "Pair (12, 15): Similarity Score = -0.032426545631157634\n",
      "Pair (12, 16): Similarity Score = 0.04581558779897129\n",
      "Pair (12, 17): Similarity Score = 0.7090595618842204\n",
      "Pair (12, 18): Similarity Score = -0.7672732374147815\n",
      "Pair (12, 19): Similarity Score = -0.4497365874828079\n",
      "Pair (13, 14): Similarity Score = -0.2574169741612528\n",
      "Pair (13, 15): Similarity Score = -0.3587669035261213\n",
      "Pair (13, 16): Similarity Score = -0.40740456745536735\n",
      "Pair (13, 17): Similarity Score = -0.28434829562836667\n",
      "Pair (13, 18): Similarity Score = -0.42196402889338486\n",
      "Pair (13, 19): Similarity Score = 0.2171069310546789\n",
      "Pair (14, 15): Similarity Score = -0.5575226934422525\n",
      "Pair (14, 16): Similarity Score = 0.8845562636086838\n",
      "Pair (14, 17): Similarity Score = -0.6038467002214751\n",
      "Pair (14, 18): Similarity Score = 0.7213759180586135\n",
      "Pair (14, 19): Similarity Score = 0.5611141351489108\n",
      "Pair (15, 16): Similarity Score = -0.401043658651256\n",
      "Pair (15, 17): Similarity Score = 0.5691289349436626\n",
      "Pair (15, 18): Similarity Score = -0.15906338392377983\n",
      "Pair (15, 19): Similarity Score = -0.6309318510348756\n",
      "Pair (16, 17): Similarity Score = -0.2982630674055692\n",
      "Pair (16, 18): Similarity Score = 0.4999384006386597\n",
      "Pair (16, 19): Similarity Score = 0.38669557576107394\n",
      "Pair (17, 18): Similarity Score = -0.6183504775883553\n",
      "Pair (17, 19): Similarity Score = -0.7531858263414716\n",
      "Pair (18, 19): Similarity Score = 0.5422708637837191\n",
      "\n",
      "Cosine Similarity Similarity:\n",
      "Pair with maximum similarity (Index 0 and 2):\n",
      "Pair 1:\n",
      "CO(GT)                   1.1\n",
      "PT08.S1(CO)      1047.333333\n",
      "NMHC(GT)                74.0\n",
      "C6H6(GT)            4.932008\n",
      "PT08.S2(NMHC)          760.0\n",
      "NOx(GT)                 64.0\n",
      "PT08.S3(NOx)          1032.0\n",
      "NO2(GT)                 74.0\n",
      "PT08.S4(NO2)     1378.666667\n",
      "PT08.S5(O3)           1003.0\n",
      "T                  11.466667\n",
      "RH                 61.433333\n",
      "AH                  0.830289\n",
      "Name: 822, dtype: object\n",
      "\n",
      "Pair 2:\n",
      "CO(GT)                 1.8\n",
      "PT08.S1(CO)         1129.5\n",
      "NMHC(GT)              56.0\n",
      "C6H6(GT)          5.191654\n",
      "PT08.S2(NMHC)        773.0\n",
      "NOx(GT)               70.0\n",
      "PT08.S3(NOx)       1130.25\n",
      "NO2(GT)               82.0\n",
      "PT08.S4(NO2)       1451.75\n",
      "PT08.S5(O3)         1050.5\n",
      "T                     12.1\n",
      "RH               61.100001\n",
      "AH                0.860316\n",
      "Name: 82, dtype: object\n",
      "\n"
     ]
    }
   ],
   "source": [
    "import pandas as pd\n",
    "import numpy as np\n",
    "from sklearn.preprocessing import StandardScaler\n",
    "from sklearn.metrics.pairwise import cosine_similarity\n",
    "\n",
    "# Load and preprocess your dataset\n",
    "df = pd.read_excel('AirQualityUCI.xlsx')\n",
    "\n",
    "# Replace -200 with NaN\n",
    "df.replace(-200, np.nan, inplace=True)\n",
    "\n",
    "# Separate numeric and non-numeric columns\n",
    "numeric_df = df.select_dtypes(include=[np.number])\n",
    "non_numeric_df = df.select_dtypes(exclude=[np.number])\n",
    "\n",
    "# Compute medians for numeric columns and fill missing values\n",
    "df[numeric_df.columns] = numeric_df.fillna(numeric_df.median())\n",
    "\n",
    "# Reset index and sample 20 data objects\n",
    "df.reset_index(drop=True, inplace=True)\n",
    "sampled_df = df.sample(n=20, random_state=1)\n",
    "\n",
    "# Extract numeric features for similarity calculation\n",
    "features = sampled_df.select_dtypes(include=[np.number])\n",
    "\n",
    "# Standardize features\n",
    "scaler = StandardScaler()\n",
    "scaled_features = scaler.fit_transform(features)\n",
    "\n",
    "# Compute Cosine Similarity\n",
    "cosine_sim = cosine_similarity(scaled_features)\n",
    "\n",
    "def print_pairwise_similarities(similarity_matrix):\n",
    "    num_samples = similarity_matrix.shape[0]\n",
    "    for i in range(num_samples):\n",
    "        for j in range(i + 1, num_samples):\n",
    "            print(f\"Pair ({i}, {j}): Similarity Score = {similarity_matrix[i, j]}\")\n",
    "\n",
    "# Print all pairwise similarity scores\n",
    "print(\"Pairwise Similarity Scores:\")\n",
    "print_pairwise_similarities(cosine_sim)\n",
    "\n",
    "def get_max_similarity_pair(similarity_matrix):\n",
    "    np.fill_diagonal(similarity_matrix, 0)  # Set diagonal to 0 to avoid self-similarity\n",
    "    max_similarity_idx = np.unravel_index(np.argmax(similarity_matrix, axis=None), similarity_matrix.shape)\n",
    "    return max_similarity_idx\n",
    "\n",
    "def print_pair_info(df, idx, measure_name):\n",
    "    # Extract numeric columns for displaying pairs\n",
    "    numeric_columns = df.select_dtypes(include=[np.number]).columns\n",
    "    pair_1 = df.iloc[idx[0]][numeric_columns]\n",
    "    pair_2 = df.iloc[idx[1]][numeric_columns]\n",
    "    \n",
    "    print(f\"\\n{measure_name} Similarity:\")\n",
    "    print(f\"Pair with maximum similarity (Index {idx[0]} and {idx[1]}):\")\n",
    "    print(f\"Pair 1:\\n{pair_1}\\n\")\n",
    "    print(f\"Pair 2:\\n{pair_2}\\n\")\n",
    "\n",
    "# Get the pair with maximum similarity\n",
    "cosine_max_idx = get_max_similarity_pair(cosine_sim)\n",
    "print_pair_info(sampled_df, cosine_max_idx, 'Cosine Similarity')\n"
   ]
  },
  {
   "cell_type": "markdown",
   "id": "a4be58a4",
   "metadata": {},
   "source": [
    "# Task 5"
   ]
  },
  {
   "cell_type": "code",
   "execution_count": null,
   "id": "294eff51",
   "metadata": {},
   "outputs": [],
   "source": []
  }
 ],
 "metadata": {
  "kernelspec": {
   "display_name": "Python 3 (ipykernel)",
   "language": "python",
   "name": "python3"
  },
  "language_info": {
   "codemirror_mode": {
    "name": "ipython",
    "version": 3
   },
   "file_extension": ".py",
   "mimetype": "text/x-python",
   "name": "python",
   "nbconvert_exporter": "python",
   "pygments_lexer": "ipython3",
   "version": "3.9.19"
  }
 },
 "nbformat": 4,
 "nbformat_minor": 5
}
