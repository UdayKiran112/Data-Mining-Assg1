{
 "cells": [
  {
   "cell_type": "markdown",
   "id": "0be14cec",
   "metadata": {},
   "source": [
    "# Task 1"
   ]
  },
  {
   "cell_type": "code",
   "execution_count": 40,
   "id": "1aa2ba30",
   "metadata": {},
   "outputs": [
    {
     "name": "stdout",
     "output_type": "stream",
     "text": [
      "Dataset Shape: (9357, 15) \n",
      "\n",
      "Number of instances: 9357\n",
      "\n",
      "Number of Features: 15\n",
      "\n",
      "Features: ['Date', 'Time', 'CO(GT)', 'PT08.S1(CO)', 'NMHC(GT)', 'C6H6(GT)', 'PT08.S2(NMHC)', 'NOx(GT)', 'PT08.S3(NOx)', 'NO2(GT)', 'PT08.S4(NO2)', 'PT08.S5(O3)', 'T', 'RH', 'AH'] \n",
      "\n",
      "First Few Rows:\n",
      "\n",
      "        Date      Time  CO(GT)  PT08.S1(CO)  NMHC(GT)   C6H6(GT)  \\\n",
      "0 2004-03-10  18:00:00     2.6      1360.00       150  11.881723   \n",
      "1 2004-03-10  19:00:00     2.0      1292.25       112   9.397165   \n",
      "2 2004-03-10  20:00:00     2.2      1402.00        88   8.997817   \n",
      "3 2004-03-10  21:00:00     2.2      1375.50        80   9.228796   \n",
      "4 2004-03-10  22:00:00     1.6      1272.25        51   6.518224   \n",
      "\n",
      "   PT08.S2(NMHC)  NOx(GT)  PT08.S3(NOx)  NO2(GT)  PT08.S4(NO2)  PT08.S5(O3)  \\\n",
      "0        1045.50    166.0       1056.25    113.0       1692.00      1267.50   \n",
      "1         954.75    103.0       1173.75     92.0       1558.75       972.25   \n",
      "2         939.25    131.0       1140.00    114.0       1554.50      1074.00   \n",
      "3         948.25    172.0       1092.00    122.0       1583.75      1203.25   \n",
      "4         835.50    131.0       1205.00    116.0       1490.00      1110.00   \n",
      "\n",
      "       T         RH        AH  \n",
      "0  13.60  48.875001  0.757754  \n",
      "1  13.30  47.700000  0.725487  \n",
      "2  11.90  53.975000  0.750239  \n",
      "3  11.00  60.000000  0.786713  \n",
      "4  11.15  59.575001  0.788794  \n"
     ]
    }
   ],
   "source": [
    "import pandas as pd\n",
    "\n",
    "# Load the dataset\n",
    "df = pd.read_excel('AirQualityUCI.xlsx')\n",
    "\n",
    "# Print dataset description\n",
    "print(\"Dataset Shape:\", df.shape,\"\\n\")\n",
    "print(f\"Number of instances: {df.shape[0]}\\n\")\n",
    "print (f\"Number of Features: {df.shape[1]}\\n\")\n",
    "print(\"Features:\", df.columns.tolist(),\"\\n\")\n",
    "print(\"First Few Rows:\\n\")\n",
    "print(df.head())\n"
   ]
  },
  {
   "cell_type": "markdown",
   "id": "51c0a623",
   "metadata": {},
   "source": [
    "# Task 2\n"
   ]
  },
  {
   "cell_type": "code",
   "execution_count": 41,
   "id": "bae62fd2",
   "metadata": {},
   "outputs": [
    {
     "name": "stdout",
     "output_type": "stream",
     "text": [
      "The most important attribute based on correlation with all others is 'PT08.S1(CO)' with a total correlation sum of 6.52\n"
     ]
    }
   ],
   "source": [
    "# Drop 'Date' and 'Time' columns as they are unique ID columns for correlation analysis\n",
    "df_numeric = df.drop(columns=['Date', 'Time'])\n",
    "\n",
    "# Compute the correlation matrix\n",
    "correlation_matrix = df_numeric.corr().abs()\n",
    "\n",
    "# For each attribute, sum the absolute correlations with all other attributes\n",
    "# Subtract 1 from the diagonal (correlation of the attribute with itself)A\n",
    "sum_of_correlations = correlation_matrix.sum() - 1\n",
    "\n",
    "# Find the attribute with the highest sum of correlations\n",
    "most_influential_attribute = sum_of_correlations.idxmax()\n",
    "max_sum_of_correlations = sum_of_correlations.max()\n",
    "\n",
    "# Print the most important attribute\n",
    "print(f\"The most important attribute based on correlation with all others is '{most_influential_attribute}' with a total correlation sum of {max_sum_of_correlations:.2f}\")\n"
   ]
  },
  {
   "cell_type": "code",
   "execution_count": 42,
   "id": "ab9afc39",
   "metadata": {},
   "outputs": [
    {
     "name": "stdout",
     "output_type": "stream",
     "text": [
      "Mean of PT08.S1(CO): 1048.87\n",
      "Median of PT08.S1(CO): 1052.50\n",
      "Mode of PT08.S1(CO): -200.00\n",
      "Standard Deviation of PT08.S1(CO): 329.82\n",
      "Variance of PT08.S1(CO): 108779.26\n",
      "Min of PT08.S1(CO): -200.00\n",
      "Max of PT08.S1(CO): 2039.75\n",
      "Range of PT08.S1(CO): 2239.75\n",
      "\n"
     ]
    },
    {
     "data": {
      "image/png": "[encoded data removed]",
      "text/plain": [
       "<Figure size 640x480 with 1 Axes>"
      ]
     },
     "metadata": {},
     "output_type": "display_data"
    }
   ],
   "source": [
    "import pandas as pd\n",
    "import matplotlib.pyplot as plt\n",
    "\n",
    "# Load the dataset\n",
    "df = pd.read_excel('AirQualityUCI.xlsx')\n",
    "\n",
    "# Select a numerical attribute for analysis\n",
    "attribute = 'PT08.S1(CO)'\n",
    "\n",
    "# Compute measures of central tendency and dispersion\n",
    "mean_value = df[attribute].mean()\n",
    "median_value = df[attribute].median()\n",
    "mode_value = df[attribute].mode()[0]\n",
    "std_dev = df[attribute].std()\n",
    "variance = df[attribute].var()\n",
    "min_value = df[attribute].min()\n",
    "max_value = df[attribute].max()\n",
    "range_value = max_value - min_value\n",
    "\n",
    "# Print results\n",
    "print(f\"Mean of {attribute}: {mean_value:.2f}\")\n",
    "print(f\"Median of {attribute}: {median_value:.2f}\")\n",
    "print(f\"Mode of {attribute}: {mode_value:.2f}\")\n",
    "print(f\"Standard Deviation of {attribute}: {std_dev:.2f}\")\n",
    "print(f\"Variance of {attribute}: {variance:.2f}\")\n",
    "print(f\"Min of {attribute}: {min_value:.2f}\")\n",
    "print(f\"Max of {attribute}: {max_value:.2f}\")\n",
    "print(f\"Range of {attribute}: {range_value:.2f}\\n\")\n",
    "\n",
    "# Visualization\n",
    "\n",
    "plt.hist(df[attribute].dropna(), bins=30, edgecolor='k', alpha=0.7)\n",
    "plt.title(f'Distribution of {attribute}')\n",
    "plt.xlabel(attribute)\n",
    "plt.ylabel('Frequency')\n",
    "plt.savefig('histogram.png')\n",
    "plt.show()"
   ]
  },
  {
   "cell_type": "code",
   "execution_count": 43,
   "id": "4d3df7f5",
   "metadata": {},
   "outputs": [
    {
     "name": "stdout",
     "output_type": "stream",
     "text": [
      "Number of missing values (including -200): 366\n"
     ]
    }
   ],
   "source": [
    "# Print no. of missing values\n",
    "missing_count = ((df[attribute] == -200)).sum()\n",
    "print(f\"Number of missing values (including -200): {missing_count}\")"
   ]
  },
  {
   "cell_type": "code",
   "execution_count": 44,
   "id": "67c749bd",
   "metadata": {},
   "outputs": [
    {
     "name": "stdout",
     "output_type": "stream",
     "text": [
      "0\n"
     ]
    },
    {
     "name": "stderr",
     "output_type": "stream",
     "text": [
      "C:\\Users\\ASUS\\AppData\\Local\\Temp\\ipykernel_2596\\2424072556.py:8: FutureWarning: Downcasting object dtype arrays on .fillna, .ffill, .bfill is deprecated and will change in a future version. Call result.infer_objects(copy=False) instead. To opt-in to the future behavior, set `pd.set_option('future.no_silent_downcasting', True)`\n",
      "  df[attribute] = df[attribute].fillna(median_value).infer_objects(copy=False)\n"
     ]
    }
   ],
   "source": [
    "# Replace -200 values with NaN so we can handle them consistently as missing values\n",
    "df[attribute] = df[attribute].replace(-200, pd.NA)\n",
    "\n",
    "# Compute the median value for the attribute\n",
    "median_value = df[attribute].median()\n",
    "\n",
    "# Fill missing values (both NaN and previously -200) with the median\n",
    "df[attribute] = df[attribute].fillna(median_value).infer_objects(copy=False)\n",
    "\n",
    "# Verify if missing values are handled\n",
    "print(df[attribute].isnull().sum())  # Should print 0 if all missing values are filled\n"
   ]
  },
  {
   "cell_type": "code",
   "execution_count": 45,
   "id": "9168b6c3",
   "metadata": {},
   "outputs": [
    {
     "data": {
      "image/png": "[encoded data removed]",
      "text/plain": [
       "<Figure size 640x480 with 1 Axes>"
      ]
     },
     "metadata": {},
     "output_type": "display_data"
    }
   ],
   "source": [
    "import seaborn as sns\n",
    "import matplotlib.pyplot as plt\n",
    "\n",
    "# Seaborn histogram (with KDE curve)\n",
    "sns.histplot(df[attribute].dropna(), bins=30, kde=True, color='skyblue', edgecolor='black', alpha=0.7)\n",
    "\n",
    "# Adding labels and title\n",
    "plt.title(f'Distribution of {attribute}', fontsize=14)\n",
    "plt.xlabel(attribute, fontsize=12)\n",
    "plt.ylabel('Frequency', fontsize=12)\n",
    "\n",
    "# Saving and displaying the plot\n",
    "plt.savefig('sns_histogram_after_handling_missing_values.png')\n",
    "plt.show()\n"
   ]
  },
  {
   "cell_type": "code",
   "execution_count": 46,
   "id": "d2ea48ce",
   "metadata": {},
   "outputs": [
    {
     "name": "stdout",
     "output_type": "stream",
     "text": [
      "Mean: 1098.27202450928\n",
      "Median: 1063.0\n",
      "Mode: 1063.0\n",
      "Standard Deviation: 212.91509327233845\n",
      "Variance: 45332.83694316858\n",
      "Range: 1392.5\n",
      "IQR (Interquartile Range): 280.0\n"
     ]
    }
   ],
   "source": [
    "import numpy as np\n",
    "import pandas as pd\n",
    "\n",
    "# Replace -200 values with NaN and fill missing values with median\n",
    "df[attribute] = df[attribute].replace(-200, pd.NA)\n",
    "median_value = df[attribute].median()\n",
    "df[attribute] = df[attribute].fillna(median_value)\n",
    "\n",
    "# Central tendency\n",
    "mean_value = df[attribute].mean()\n",
    "median_value = df[attribute].median()\n",
    "mode_value = df[attribute].mode().values[0]  # Mode might return multiple values, taking the first\n",
    "\n",
    "# Measures of dispersion\n",
    "std_deviation = df[attribute].std()  # Standard deviation\n",
    "variance_value = df[attribute].var()  # Variance\n",
    "range_value = df[attribute].max() - df[attribute].min()  # Range\n",
    "iqr_value = np.percentile(df[attribute], 75) - np.percentile(df[attribute], 25)  # Interquartile range\n",
    "\n",
    "# Output results\n",
    "print(f\"Mean: {mean_value}\")\n",
    "print(f\"Median: {median_value}\")\n",
    "print(f\"Mode: {mode_value}\")\n",
    "print(f\"Standard Deviation: {std_deviation}\")\n",
    "print(f\"Variance: {variance_value}\")\n",
    "print(f\"Range: {range_value}\")\n",
    "print(f\"IQR (Interquartile Range): {iqr_value}\")\n"
   ]
  },
  {
   "cell_type": "code",
   "execution_count": 47,
   "id": "5c2110f1",
   "metadata": {},
   "outputs": [
    {
     "data": {
      "image/png": "[encoded data removed]",
      "text/plain": [
       "<Figure size 1000x600 with 1 Axes>"
      ]
     },
     "metadata": {},
     "output_type": "display_data"
    },
    {
     "name": "stdout",
     "output_type": "stream",
     "text": [
      "Number of outliers: 72\n"
     ]
    }
   ],
   "source": [
    "import seaborn as sns\n",
    "import matplotlib.pyplot as plt\n",
    "from scipy import stats\n",
    "\n",
    "# Attribute to analyze\n",
    "attribute = 'PT08.S1(CO)'\n",
    "\n",
    "# Box plot to identify outliers\n",
    "plt.figure(figsize=(10, 6))  # Optional: Set figure size for better visibility\n",
    "sns.boxplot(x=df[attribute])\n",
    "plt.title('Box Plot of ' + attribute)\n",
    "\n",
    "# Save the plot as an image file (e.g., PNG)\n",
    "plt.savefig('boxplot_' + attribute + '.png', format='png', dpi=300)\n",
    "\n",
    "# Show the plot\n",
    "plt.show()\n",
    "\n",
    "# Z-score to identify outliers\n",
    "z_scores = stats.zscore(df[attribute].dropna())\n",
    "outliers = df[attribute][abs(z_scores) > 3]\n",
    "print(\"Number of outliers:\", outliers.shape[0])\n"
   ]
  },
  {
   "cell_type": "markdown",
   "id": "810ab4fa",
   "metadata": {},
   "source": [
    "# Task 3"
   ]
  },
  {
   "cell_type": "code",
   "execution_count": 48,
   "id": "68d313b5",
   "metadata": {},
   "outputs": [
    {
     "name": "stdout",
     "output_type": "stream",
     "text": [
      "Normalized values of PT08.S1(CO):\n",
      "   PT08.S1(CO)  PT08.S1(CO)_normalized\n",
      "0      1360.00                0.511849\n",
      "1      1292.25                0.463196\n",
      "2      1402.00                0.542011\n",
      "3      1375.50                0.522980\n",
      "4      1272.25                0.448833\n"
     ]
    },
    {
     "name": "stderr",
     "output_type": "stream",
     "text": [
      "C:\\Users\\ASUS\\AppData\\Local\\Temp\\ipykernel_2596\\1415268321.py:15: FutureWarning: Downcasting object dtype arrays on .fillna, .ffill, .bfill is deprecated and will change in a future version. Call result.infer_objects(copy=False) instead. To opt-in to the future behavior, set `pd.set_option('future.no_silent_downcasting', True)`\n",
      "  df[attribute] = df[attribute].fillna(median_value)\n"
     ]
    }
   ],
   "source": [
    "import pandas as pd\n",
    "from sklearn.preprocessing import MinMaxScaler\n",
    "\n",
    "# Load the dataset\n",
    "df = pd.read_excel('AirQualityUCI.xlsx')\n",
    "\n",
    "# Select an attribute for normalization\n",
    "attribute = 'PT08.S1(CO)'\n",
    "\n",
    "# Replace erroneous values (-200) with NaN for proper missing value handling\n",
    "df[attribute] = df[attribute].replace(-200, pd.NA)\n",
    "\n",
    "# Fill missing values in the selected attribute with its median\n",
    "median_value = df[attribute].median()\n",
    "df[attribute] = df[attribute].fillna(median_value)\n",
    "\n",
    "# Normalize the attribute\n",
    "scaler = MinMaxScaler()\n",
    "df[attribute + '_normalized'] = scaler.fit_transform(df[[attribute]])\n",
    "\n",
    "# Print results\n",
    "print(f\"Normalized values of {attribute}:\")\n",
    "print(df[[attribute, attribute + '_normalized']].head())\n"
   ]
  },
  {
   "cell_type": "markdown",
   "id": "8979b583",
   "metadata": {},
   "source": [
    "# Task 4"
   ]
  },
  {
   "cell_type": "code",
   "execution_count": 49,
   "id": "9a279b31",
   "metadata": {},
   "outputs": [
    {
     "name": "stdout",
     "output_type": "stream",
     "text": [
      "Sparsity: 0.10\n",
      "Variance of features:\n",
      "CO(GT)            5450.572526\n",
      "PT08.S1(CO)      14264.341447\n",
      "C6H6(GT)            14.520392\n",
      "PT08.S2(NMHC)    27753.683553\n",
      "NOx(GT)          24278.329368\n",
      "PT08.S3(NOx)     22406.318914\n",
      "NO2(GT)          10778.039895\n",
      "PT08.S4(NO2)     77232.732072\n",
      "PT08.S5(O3)      73807.262500\n",
      "T                   71.088455\n",
      "RH                 393.671873\n",
      "AH                   0.114402\n",
      "dtype: float64\n",
      "Number of features: 13\n",
      "\n",
      "There is a large difference in feature scales. Cosine similarity is recommended.\n",
      "\n",
      "Recommended similarity measure: cosine\n"
     ]
    }
   ],
   "source": [
    "import numpy as np\n",
    "import pandas as pd\n",
    "from scipy.spatial.distance import euclidean\n",
    "from sklearn.metrics.pairwise import cosine_similarity\n",
    "\n",
    "# Load your dataset (replace with the actual file)\n",
    "df = pd.read_excel('AirQualityUCI.xlsx')\n",
    "\n",
    "# Function to recommend a similarity measure based on the dataset\n",
    "def recommend_similarity_measure(df):\n",
    "    # Exclude non-numeric columns like datetime\n",
    "    numeric_df = df.select_dtypes(include=[np.number])\n",
    "\n",
    "    # Check for sparsity (percentage of zero or missing values in the dataset)\n",
    "    sparsity_threshold = 0.4  # Define sparsity threshold (40%)\n",
    "    missing_or_zero = (numeric_df.isnull() | (numeric_df == -200)).sum().sum()\n",
    "    total_values = numeric_df.size\n",
    "    sparsity = missing_or_zero / total_values\n",
    "\n",
    "    # Check for feature scaling (variance across features)\n",
    "    variance = numeric_df.var()\n",
    "\n",
    "    # Remove columns with zero variance to avoid division by zero\n",
    "    variance = variance[variance > 0]\n",
    "\n",
    "    feature_scale_threshold = 1e3  # Define threshold for large variance differences between features\n",
    "\n",
    "    # Check dimensionality (number of features)\n",
    "    num_features = numeric_df.shape[1]\n",
    "    dimensionality_threshold = 20  # Define dimensionality threshold (20 features)\n",
    "\n",
    "    print(f\"Sparsity: {sparsity:.2f}\")\n",
    "    print(f\"Variance of features:\\n{variance}\")\n",
    "    print(f\"Number of features: {num_features}\")\n",
    "\n",
    "    if sparsity > sparsity_threshold:\n",
    "        print(\"\\nYour data is sparse. Cosine similarity is recommended.\")\n",
    "        return 'cosine'\n",
    "\n",
    "    # Check if there are any non-zero variances before performing division\n",
    "    if len(variance) > 0 and variance.min() > 0:\n",
    "        if variance.max() / variance.min() > feature_scale_threshold:\n",
    "            print(\"\\nThere is a large difference in feature scales. Cosine similarity is recommended.\")\n",
    "            return 'cosine'\n",
    "\n",
    "    if num_features > dimensionality_threshold:\n",
    "        print(\"\\nYou have high-dimensional data. Cosine similarity is recommended.\")\n",
    "        return 'cosine'\n",
    "\n",
    "    print(\"\\nEuclidean distance is recommended for your data.\")\n",
    "    return 'euclidean'\n",
    "\n",
    "# Sampling 20 data points from the dataset\n",
    "sample_df = df.sample(n=20, random_state=42)\n",
    "\n",
    "# Recommending a similarity measure based on the dataset\n",
    "similarity_measure = recommend_similarity_measure(sample_df)\n",
    "print(f\"\\nRecommended similarity measure: {similarity_measure}\")\n",
    "\n"
   ]
  },
  {
   "cell_type": "code",
   "execution_count": 50,
   "id": "d9517698",
   "metadata": {},
   "outputs": [
    {
     "name": "stdout",
     "output_type": "stream",
     "text": [
      "Pair with maximum similarity (cosine measure):\n",
      "Index 2973 and Index 2543\n",
      "Similarity score: 0.9991412440721056\n",
      "\n",
      "Data for pair 2973:\n",
      "CO(GT)              1.300000\n",
      "PT08.S1(CO)       932.750000\n",
      "NMHC(GT)         -200.000000\n",
      "C6H6(GT)            6.412912\n",
      "PT08.S2(NMHC)     830.750000\n",
      "NOx(GT)           105.000000\n",
      "PT08.S3(NOx)      888.250000\n",
      "NO2(GT)            72.000000\n",
      "PT08.S4(NO2)     1514.000000\n",
      "PT08.S5(O3)       709.500000\n",
      "T                  25.950000\n",
      "RH                 34.850000\n",
      "AH                  1.150921\n",
      "Name: 2973, dtype: float64\n",
      "Data for pair 2543:\n",
      "CO(GT)              1.600000\n",
      "PT08.S1(CO)       988.500000\n",
      "NMHC(GT)         -200.000000\n",
      "C6H6(GT)            7.760400\n",
      "PT08.S2(NMHC)     889.250000\n",
      "NOx(GT)            85.000000\n",
      "PT08.S3(NOx)      888.750000\n",
      "NO2(GT)            89.000000\n",
      "PT08.S4(NO2)     1602.250000\n",
      "PT08.S5(O3)       663.500000\n",
      "T                  35.250000\n",
      "RH                 20.800000\n",
      "AH                  1.166367\n",
      "Name: 2543, dtype: float64\n"
     ]
    }
   ],
   "source": [
    "import pandas as pd\n",
    "import numpy as np\n",
    "from sklearn.metrics.pairwise import cosine_similarity\n",
    "from scipy.spatial.distance import euclidean\n",
    "import matplotlib.pyplot as plt\n",
    "\n",
    "# Load your dataset\n",
    "df = pd.read_excel('AirQualityUCI.xlsx')\n",
    "\n",
    "# Select numeric columns for sampling\n",
    "numeric_df = df.select_dtypes(include=[np.number])\n",
    "\n",
    "# Handle missing values: fill with median\n",
    "numeric_df = numeric_df.fillna(numeric_df.median())\n",
    "\n",
    "# Sample 20 data points from the dataset\n",
    "sample_df = numeric_df.sample(n=20, random_state=42)\n",
    "\n",
    "# Compute pairwise similarity\n",
    "def compute_pairwise_similarity(df, measure='cosine'):\n",
    "    if measure == 'euclidean':\n",
    "        # Compute pairwise Euclidean distances\n",
    "        distances = pd.DataFrame(\n",
    "            np.linalg.norm(df.values[:, np.newaxis] - df.values[np.newaxis, :], axis=2),\n",
    "            columns=df.index, index=df.index\n",
    "        )\n",
    "        return distances\n",
    "    elif measure == 'cosine':\n",
    "        # Compute pairwise cosine similarities\n",
    "        similarities = pd.DataFrame(\n",
    "            cosine_similarity(df),\n",
    "            columns=df.index, index=df.index\n",
    "        )\n",
    "        return similarities\n",
    "    else:\n",
    "        raise ValueError(\"Unsupported similarity measure\")\n",
    "\n",
    "# Choose similarity measure (adjust based on your recommendation)\n",
    "similarity_measure = 'cosine'  # or 'euclidean'\n",
    "similarity_df = compute_pairwise_similarity(sample_df, measure=similarity_measure)\n",
    "\n",
    "# Find the pair with the maximum similarity or minimum distance\n",
    "if similarity_measure == 'euclidean':\n",
    "    # Find minimum distance\n",
    "    min_distance = similarity_df.values[np.triu_indices(len(similarity_df), k=1)].min()\n",
    "    max_similarity_pair = np.where(similarity_df == min_distance)\n",
    "    max_similarity_index = (max_similarity_pair[0][0], max_similarity_pair[1][0])\n",
    "    similarity_value = min_distance\n",
    "else:\n",
    "    # Find maximum similarity\n",
    "    max_similarity = similarity_df.values[np.triu_indices(len(similarity_df), k=1)].max()\n",
    "    max_similarity_pair = np.where(similarity_df == max_similarity)\n",
    "    max_similarity_index = (max_similarity_pair[0][0], max_similarity_pair[1][0])\n",
    "    similarity_value = max_similarity\n",
    "\n",
    "# Output results\n",
    "print(f\"Pair with maximum similarity ({similarity_measure} measure):\")\n",
    "print(f\"Index {sample_df.index[max_similarity_index[0]]} and Index {sample_df.index[max_similarity_index[1]]}\")\n",
    "print(f\"Similarity score: {similarity_value}\")\n",
    "\n",
    "# Analyze the most similar pair\n",
    "print(f\"\\nData for pair {sample_df.index[max_similarity_index[0]]}:\")\n",
    "print(sample_df.loc[sample_df.index[max_similarity_index[0]]])\n",
    "print(f\"Data for pair {sample_df.index[max_similarity_index[1]]}:\")\n",
    "print(sample_df.loc[sample_df.index[max_similarity_index[1]]])\n"
   ]
  },
  {
   "cell_type": "markdown",
   "id": "a4be58a4",
   "metadata": {},
   "source": [
    "# Task 5"
   ]
  },
  {
   "cell_type": "code",
   "execution_count": 51,
   "id": "1c400d64",
   "metadata": {},
   "outputs": [
    {
     "name": "stdout",
     "output_type": "stream",
     "text": [
      "Pair with maximum similarity after PCA (cosine measure):\n",
      "Index 1745 and Index 1313\n",
      "Similarity score: 0.999541961824723\n",
      "\n",
      "Data for pair 1745:\n",
      "PC1   -0.811774\n",
      "PC2    0.236580\n",
      "Name: 1745, dtype: float64\n",
      "Data for pair 1313:\n",
      "PC1   -0.906101\n",
      "PC2    0.294099\n",
      "Name: 1313, dtype: float64\n"
     ]
    },
    {
     "data": {
      "image/png": "[encoded data removed]",
      "text/plain": [
       "<Figure size 800x600 with 1 Axes>"
      ]
     },
     "metadata": {},
     "output_type": "display_data"
    }
   ],
   "source": [
    "import pandas as pd\n",
    "import numpy as np\n",
    "from sklearn.decomposition import PCA\n",
    "from sklearn.preprocessing import StandardScaler\n",
    "from sklearn.metrics.pairwise import cosine_similarity\n",
    "from scipy.spatial.distance import euclidean\n",
    "import matplotlib.pyplot as plt\n",
    "\n",
    "# Load your dataset\n",
    "df = pd.read_excel('AirQualityUCI.xlsx')\n",
    "\n",
    "# Select numeric columns for processing\n",
    "numeric_df = df.select_dtypes(include=[np.number])\n",
    "\n",
    "# Handle missing values: fill with median\n",
    "numeric_df = numeric_df.fillna(numeric_df.median())\n",
    "\n",
    "# Standardize features\n",
    "scaler = StandardScaler()\n",
    "scaled_df = pd.DataFrame(scaler.fit_transform(numeric_df), columns=numeric_df.columns)\n",
    "\n",
    "# Dimensionality Reduction using PCA\n",
    "def apply_pca(df, n_components):\n",
    "    pca = PCA(n_components=n_components)\n",
    "    reduced_df = pd.DataFrame(pca.fit_transform(df), columns=[f'PC{i+1}' for i in range(n_components)], index=df.index)\n",
    "    return reduced_df, pca\n",
    "\n",
    "# Apply PCA to reduce dimensions to 2\n",
    "n_components = 2\n",
    "reduced_df, pca = apply_pca(scaled_df, n_components)\n",
    "\n",
    "# Sample 20 data points from the reduced dataset\n",
    "sample_reduced_df = reduced_df.sample(n=20, random_state=42)\n",
    "\n",
    "# Compute pairwise similarity\n",
    "def compute_pairwise_similarity(df, measure='cosine'):\n",
    "    if measure == 'euclidean':\n",
    "        distances = pd.DataFrame(\n",
    "            np.linalg.norm(df.values[:, np.newaxis] - df.values[np.newaxis, :], axis=2),\n",
    "            columns=df.index, index=df.index\n",
    "        )\n",
    "        return distances\n",
    "    elif measure == 'cosine':\n",
    "        similarities = pd.DataFrame(\n",
    "            cosine_similarity(df),\n",
    "            columns=df.index, index=df.index\n",
    "        )\n",
    "        return similarities\n",
    "    else:\n",
    "        raise ValueError(\"Unsupported similarity measure\")\n",
    "\n",
    "# Choose similarity measure\n",
    "similarity_measure = 'cosine'  # or 'euclidean'\n",
    "similarity_df_reduced = compute_pairwise_similarity(sample_reduced_df, measure=similarity_measure)\n",
    "\n",
    "# Find the pair with the maximum similarity or minimum distance\n",
    "if similarity_measure == 'euclidean':\n",
    "    min_distance = similarity_df_reduced.values[np.triu_indices(len(similarity_df_reduced), k=1)].min()\n",
    "    max_similarity_pair = np.where(similarity_df_reduced == min_distance)\n",
    "    max_similarity_index = (max_similarity_pair[0][0], max_similarity_pair[1][0])\n",
    "    similarity_value = min_distance\n",
    "else:\n",
    "    max_similarity = similarity_df_reduced.values[np.triu_indices(len(similarity_df_reduced), k=1)].max()\n",
    "    max_similarity_pair = np.where(similarity_df_reduced == max_similarity)\n",
    "    max_similarity_index = (max_similarity_pair[0][0], max_similarity_pair[1][0])\n",
    "    similarity_value = max_similarity\n",
    "\n",
    "# Output results\n",
    "print(f\"Pair with maximum similarity after PCA ({similarity_measure} measure):\")\n",
    "print(f\"Index {sample_reduced_df.index[max_similarity_index[0]]} and Index {sample_reduced_df.index[max_similarity_index[1]]}\")\n",
    "print(f\"Similarity score: {similarity_value}\")\n",
    "\n",
    "# Analyze the most similar pair\n",
    "print(f\"\\nData for pair {sample_reduced_df.index[max_similarity_index[0]]}:\")\n",
    "print(sample_reduced_df.loc[sample_reduced_df.index[max_similarity_index[0]]])\n",
    "print(f\"Data for pair {sample_reduced_df.index[max_similarity_index[1]]}:\")\n",
    "print(sample_reduced_df.loc[sample_reduced_df.index[max_similarity_index[1]]])\n",
    "\n",
    "# Plot explained variance ratio\n",
    "plt.figure(figsize=(8, 6))\n",
    "plt.plot(range(1, len(pca.explained_variance_ratio_) + 1), np.cumsum(pca.explained_variance_ratio_), marker='o')\n",
    "plt.title('PCA Explained Variance Ratio')\n",
    "plt.xlabel('Number of Principal Components')\n",
    "plt.ylabel('Cumulative Explained Variance')\n",
    "plt.grid(True)\n",
    "plt.show()\n"
   ]
  },
  {
   "cell_type": "code",
   "execution_count": 52,
   "id": "e2e7d27b",
   "metadata": {},
   "outputs": [
    {
     "name": "stdout",
     "output_type": "stream",
     "text": [
      "--- Before PCA (Original Data) ---\n",
      "Pair with maximum similarity: Index 2973 and Index 2543\n",
      "Similarity score: 0.9340397518009561\n",
      "\n",
      "--- After PCA (Reduced Data) ---\n",
      "Pair with maximum similarity: Index 1745 and Index 1313\n",
      "Similarity score: 0.999541961824723\n",
      "\n",
      "Data comparison for the most similar pairs:\n",
      "Original Data Pair: \n",
      "        CO(GT)  PT08.S1(CO)  NMHC(GT)  C6H6(GT)  PT08.S2(NMHC)   NOx(GT)  \\\n",
      "2973  0.457259    -0.352092  -0.29267  0.109898      -0.186171 -0.247092   \n",
      "2543  0.461122    -0.183050  -0.29267  0.142463      -0.015267 -0.324789   \n",
      "\n",
      "      PT08.S3(NOx)   NO2(GT)  PT08.S4(NO2)  PT08.S5(O3)         T        RH  \\\n",
      "2973      0.290029  0.109231      0.262511    -0.580986  0.374374 -0.090477   \n",
      "2543      0.291582  0.243169      0.451416    -0.681665  0.589647 -0.364822   \n",
      "\n",
      "            AH  \n",
      "2973  0.204968  \n",
      "2543  0.205364  \n",
      "Reduced Data Pair (PCA): \n",
      "           PC1       PC2\n",
      "1745 -0.811774  0.236580\n",
      "1313 -0.906101  0.294099\n"
     ]
    }
   ],
   "source": [
    "# Compute pairwise similarity on original data\n",
    "sample_df_original = scaled_df.sample(n=20, random_state=42)\n",
    "similarity_df_original = compute_pairwise_similarity(sample_df_original, measure=similarity_measure)\n",
    "\n",
    "# Find pair with maximum similarity in the original data\n",
    "if similarity_measure == 'euclidean':\n",
    "    min_distance_original = similarity_df_original.values[np.triu_indices(len(similarity_df_original), k=1)].min()\n",
    "    max_similarity_pair_original = np.where(similarity_df_original == min_distance_original)\n",
    "    max_similarity_index_original = (max_similarity_pair_original[0][0], max_similarity_pair_original[1][0])\n",
    "    similarity_value_original = min_distance_original\n",
    "else:\n",
    "    max_similarity_original = similarity_df_original.values[np.triu_indices(len(similarity_df_original), k=1)].max()\n",
    "    max_similarity_pair_original = np.where(similarity_df_original == max_similarity_original)\n",
    "    max_similarity_index_original = (max_similarity_pair_original[0][0], max_similarity_pair_original[1][0])\n",
    "    similarity_value_original = max_similarity_original\n",
    "\n",
    "# Compare original vs PCA results\n",
    "print(f\"--- Before PCA (Original Data) ---\")\n",
    "print(f\"Pair with maximum similarity: Index {sample_df_original.index[max_similarity_index_original[0]]} and Index {sample_df_original.index[max_similarity_index_original[1]]}\")\n",
    "print(f\"Similarity score: {similarity_value_original}\\n\")\n",
    "\n",
    "print(f\"--- After PCA (Reduced Data) ---\")\n",
    "print(f\"Pair with maximum similarity: Index {sample_reduced_df.index[max_similarity_index[0]]} and Index {sample_reduced_df.index[max_similarity_index[1]]}\")\n",
    "print(f\"Similarity score: {similarity_value}\\n\")\n",
    "\n",
    "# Compare the data for both cases\n",
    "print(f\"Data comparison for the most similar pairs:\")\n",
    "print(f\"Original Data Pair: \\n{sample_df_original.loc[[sample_df_original.index[max_similarity_index_original[0]], sample_df_original.index[max_similarity_index_original[1]]]]}\")\n",
    "print(f\"Reduced Data Pair (PCA): \\n{sample_reduced_df.loc[[sample_reduced_df.index[max_similarity_index[0]], sample_reduced_df.index[max_similarity_index[1]]]]}\")\n"
   ]
  }
 ],
 "metadata": {
  "kernelspec": {
   "display_name": "Python 3 (ipykernel)",
   "language": "python",
   "name": "python3"
  },
  "language_info": {
   "codemirror_mode": {
    "name": "ipython",
    "version": 3
   },
   "file_extension": ".py",
   "mimetype": "text/x-python",
   "name": "python",
   "nbconvert_exporter": "python",
   "pygments_lexer": "ipython3",
   "version": "3.9.19"
  }
 },
 "nbformat": 4,
 "nbformat_minor": 5
}
