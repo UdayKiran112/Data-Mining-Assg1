{
 "cells": [
  {
   "cell_type": "markdown",
   "id": "0be14cec",
   "metadata": {},
   "source": [
    "# Task 1"
   ]
  },
  {
   "cell_type": "code",
   "execution_count": 1,
   "id": "1aa2ba30",
   "metadata": {},
   "outputs": [
    {
     "name": "stdout",
     "output_type": "stream",
     "text": [
      "Dataset Shape: (9357, 15) \n",
      "\n",
      "Number of instances: 9357\n",
      "\n",
      "Number of Features: 15\n",
      "\n",
      "Features: ['Date', 'Time', 'CO(GT)', 'PT08.S1(CO)', 'NMHC(GT)', 'C6H6(GT)', 'PT08.S2(NMHC)', 'NOx(GT)', 'PT08.S3(NOx)', 'NO2(GT)', 'PT08.S4(NO2)', 'PT08.S5(O3)', 'T', 'RH', 'AH'] \n",
      "\n",
      "First Few Rows:\n",
      "\n",
      "        Date      Time  CO(GT)  PT08.S1(CO)  NMHC(GT)   C6H6(GT)  \\\n",
      "0 2004-03-10  18:00:00     2.6      1360.00       150  11.881723   \n",
      "1 2004-03-10  19:00:00     2.0      1292.25       112   9.397165   \n",
      "2 2004-03-10  20:00:00     2.2      1402.00        88   8.997817   \n",
      "3 2004-03-10  21:00:00     2.2      1375.50        80   9.228796   \n",
      "4 2004-03-10  22:00:00     1.6      1272.25        51   6.518224   \n",
      "\n",
      "   PT08.S2(NMHC)  NOx(GT)  PT08.S3(NOx)  NO2(GT)  PT08.S4(NO2)  PT08.S5(O3)  \\\n",
      "0        1045.50    166.0       1056.25    113.0       1692.00      1267.50   \n",
      "1         954.75    103.0       1173.75     92.0       1558.75       972.25   \n",
      "2         939.25    131.0       1140.00    114.0       1554.50      1074.00   \n",
      "3         948.25    172.0       1092.00    122.0       1583.75      1203.25   \n",
      "4         835.50    131.0       1205.00    116.0       1490.00      1110.00   \n",
      "\n",
      "       T         RH        AH  \n",
      "0  13.60  48.875001  0.757754  \n",
      "1  13.30  47.700000  0.725487  \n",
      "2  11.90  53.975000  0.750239  \n",
      "3  11.00  60.000000  0.786713  \n",
      "4  11.15  59.575001  0.788794  \n"
     ]
    }
   ],
   "source": [
    "import pandas as pd\n",
    "\n",
    "# Load the dataset\n",
    "df = pd.read_excel('AirQualityUCI.xlsx')\n",
    "\n",
    "# Print dataset description\n",
    "print(\"Dataset Shape:\", df.shape,\"\\n\")\n",
    "print(f\"Number of instances: {df.shape[0]}\\n\")\n",
    "print (f\"Number of Features: {df.shape[1]}\\n\")\n",
    "print(\"Features:\", df.columns.tolist(),\"\\n\")\n",
    "print(\"First Few Rows:\\n\")\n",
    "print(df.head())\n"
   ]
  },
  {
   "cell_type": "markdown",
   "id": "51c0a623",
   "metadata": {},
   "source": [
    "# Task 2\n"
   ]
  },
  {
   "cell_type": "code",
   "execution_count": 2,
   "id": "bae62fd2",
   "metadata": {},
   "outputs": [
    {
     "name": "stdout",
     "output_type": "stream",
     "text": [
      "The most important attribute based on correlation with all others is 'PT08.S1(CO)' with a total correlation sum of 6.52\n"
     ]
    }
   ],
   "source": [
    "# Drop 'Date' and 'Time' columns as they are unique ID columns for correlation analysis\n",
    "df_numeric = df.drop(columns=['Date', 'Time'])\n",
    "\n",
    "# Compute the correlation matrix\n",
    "correlation_matrix = df_numeric.corr().abs()\n",
    "\n",
    "# For each attribute, sum the absolute correlations with all other attributes\n",
    "# Subtract 1 from the diagonal (correlation of the attribute with itself)A\n",
    "sum_of_correlations = correlation_matrix.sum() - 1\n",
    "\n",
    "# Find the attribute with the highest sum of correlations\n",
    "most_influential_attribute = sum_of_correlations.idxmax()\n",
    "max_sum_of_correlations = sum_of_correlations.max()\n",
    "\n",
    "# Print the most important attribute\n",
    "print(f\"The most important attribute based on correlation with all others is '{most_influential_attribute}' with a total correlation sum of {max_sum_of_correlations:.2f}\")\n"
   ]
  },
  {
   "cell_type": "code",
   "execution_count": 3,
   "id": "ab9afc39",
   "metadata": {},
   "outputs": [
    {
     "name": "stdout",
     "output_type": "stream",
     "text": [
      "Mean of PT08.S1(CO): 1048.87\n",
      "Median of PT08.S1(CO): 1052.50\n",
      "Mode of PT08.S1(CO): -200.00\n",
      "Standard Deviation of PT08.S1(CO): 329.82\n",
      "Variance of PT08.S1(CO): 108779.26\n",
      "Min of PT08.S1(CO): -200.00\n",
      "Max of PT08.S1(CO): 2039.75\n",
      "Range of PT08.S1(CO): 2239.75\n",
      "\n"
     ]
    },
    {
     "data": {
      "image/png": "[encoded data removed]",
      "text/plain": [
       "<Figure size 640x480 with 1 Axes>"
      ]
     },
     "metadata": {},
     "output_type": "display_data"
    }
   ],
   "source": [
    "import pandas as pd\n",
    "import matplotlib.pyplot as plt\n",
    "\n",
    "# Load the dataset\n",
    "df = pd.read_excel('AirQualityUCI.xlsx')\n",
    "\n",
    "# Select a numerical attribute for analysis\n",
    "attribute = 'PT08.S1(CO)'\n",
    "\n",
    "# Compute measures of central tendency and dispersion\n",
    "mean_value = df[attribute].mean()\n",
    "median_value = df[attribute].median()\n",
    "mode_value = df[attribute].mode()[0]\n",
    "std_dev = df[attribute].std()\n",
    "variance = df[attribute].var()\n",
    "min_value = df[attribute].min()\n",
    "max_value = df[attribute].max()\n",
    "range_value = max_value - min_value\n",
    "\n",
    "# Print results\n",
    "print(f\"Mean of {attribute}: {mean_value:.2f}\")\n",
    "print(f\"Median of {attribute}: {median_value:.2f}\")\n",
    "print(f\"Mode of {attribute}: {mode_value:.2f}\")\n",
    "print(f\"Standard Deviation of {attribute}: {std_dev:.2f}\")\n",
    "print(f\"Variance of {attribute}: {variance:.2f}\")\n",
    "print(f\"Min of {attribute}: {min_value:.2f}\")\n",
    "print(f\"Max of {attribute}: {max_value:.2f}\")\n",
    "print(f\"Range of {attribute}: {range_value:.2f}\\n\")\n",
    "\n",
    "# Visualization\n",
    "\n",
    "plt.hist(df[attribute].dropna(), bins=30, edgecolor='k', alpha=0.7)\n",
    "plt.title(f'Distribution of {attribute}')\n",
    "plt.xlabel(attribute)\n",
    "plt.ylabel('Frequency')\n",
    "plt.savefig('histogram.png')\n",
    "plt.show()"
   ]
  },
  {
   "cell_type": "code",
   "execution_count": 4,
   "id": "4d3df7f5",
   "metadata": {},
   "outputs": [
    {
     "name": "stdout",
     "output_type": "stream",
     "text": [
      "Number of missing values (including -200): 366\n"
     ]
    }
   ],
   "source": [
    "# Print no. of missing values\n",
    "missing_count = ((df[attribute] == -200)).sum()\n",
    "print(f\"Number of missing values (including -200): {missing_count}\")"
   ]
  },
  {
   "cell_type": "code",
   "execution_count": 5,
   "id": "67c749bd",
   "metadata": {},
   "outputs": [
    {
     "name": "stdout",
     "output_type": "stream",
     "text": [
      "0\n"
     ]
    },
    {
     "name": "stderr",
     "output_type": "stream",
     "text": [
      "C:\\Users\\ASUS\\AppData\\Local\\Temp\\ipykernel_2528\\2424072556.py:8: FutureWarning: Downcasting object dtype arrays on .fillna, .ffill, .bfill is deprecated and will change in a future version. Call result.infer_objects(copy=False) instead. To opt-in to the future behavior, set `pd.set_option('future.no_silent_downcasting', True)`\n",
      "  df[attribute] = df[attribute].fillna(median_value).infer_objects(copy=False)\n"
     ]
    }
   ],
   "source": [
    "# Replace -200 values with NaN so we can handle them consistently as missing values\n",
    "df[attribute] = df[attribute].replace(-200, pd.NA)\n",
    "\n",
    "# Compute the median value for the attribute\n",
    "median_value = df[attribute].median()\n",
    "\n",
    "# Fill missing values (both NaN and previously -200) with the median\n",
    "df[attribute] = df[attribute].fillna(median_value).infer_objects(copy=False)\n",
    "\n",
    "# Verify if missing values are handled\n",
    "print(df[attribute].isnull().sum())  # Should print 0 if all missing values are filled\n"
   ]
  },
  {
   "cell_type": "code",
   "execution_count": 6,
   "id": "9168b6c3",
   "metadata": {},
   "outputs": [
    {
     "data": {
      "image/png": "[encoded data removed]",
      "text/plain": [
       "<Figure size 640x480 with 1 Axes>"
      ]
     },
     "metadata": {},
     "output_type": "display_data"
    }
   ],
   "source": [
    "import seaborn as sns\n",
    "import matplotlib.pyplot as plt\n",
    "\n",
    "# Seaborn histogram (with KDE curve)\n",
    "sns.histplot(df[attribute].dropna(), bins=30, kde=True, color='skyblue', edgecolor='black', alpha=0.7)\n",
    "\n",
    "# Adding labels and title\n",
    "plt.title(f'Distribution of {attribute}', fontsize=14)\n",
    "plt.xlabel(attribute, fontsize=12)\n",
    "plt.ylabel('Frequency', fontsize=12)\n",
    "\n",
    "# Saving and displaying the plot\n",
    "plt.savefig('sns_histogram_after_handling_missing_values.png')\n",
    "plt.show()\n"
   ]
  },
  {
   "cell_type": "code",
   "execution_count": 7,
   "id": "d2ea48ce",
   "metadata": {},
   "outputs": [
    {
     "name": "stdout",
     "output_type": "stream",
     "text": [
      "Mean: 1098.27202450928\n",
      "Median: 1063.0\n",
      "Mode: 1063.0\n",
      "Standard Deviation: 212.91509327233845\n",
      "Variance: 45332.83694316858\n",
      "Range: 1392.5\n",
      "IQR (Interquartile Range): 280.0\n"
     ]
    }
   ],
   "source": [
    "import numpy as np\n",
    "import pandas as pd\n",
    "\n",
    "# Replace -200 values with NaN and fill missing values with median\n",
    "df[attribute] = df[attribute].replace(-200, pd.NA)\n",
    "median_value = df[attribute].median()\n",
    "df[attribute] = df[attribute].fillna(median_value)\n",
    "\n",
    "# Central tendency\n",
    "mean_value = df[attribute].mean()\n",
    "median_value = df[attribute].median()\n",
    "mode_value = df[attribute].mode().values[0]  # Mode might return multiple values, taking the first\n",
    "\n",
    "# Measures of dispersion\n",
    "std_deviation = df[attribute].std()  # Standard deviation\n",
    "variance_value = df[attribute].var()  # Variance\n",
    "range_value = df[attribute].max() - df[attribute].min()  # Range\n",
    "iqr_value = np.percentile(df[attribute], 75) - np.percentile(df[attribute], 25)  # Interquartile range\n",
    "\n",
    "# Output results\n",
    "print(f\"Mean: {mean_value}\")\n",
    "print(f\"Median: {median_value}\")\n",
    "print(f\"Mode: {mode_value}\")\n",
    "print(f\"Standard Deviation: {std_deviation}\")\n",
    "print(f\"Variance: {variance_value}\")\n",
    "print(f\"Range: {range_value}\")\n",
    "print(f\"IQR (Interquartile Range): {iqr_value}\")\n"
   ]
  },
  {
   "cell_type": "code",
   "execution_count": 8,
   "id": "5c2110f1",
   "metadata": {},
   "outputs": [
    {
     "data": {
      "image/png": "[encoded data removed]",
      "text/plain": [
       "<Figure size 640x480 with 1 Axes>"
      ]
     },
     "metadata": {},
     "output_type": "display_data"
    },
    {
     "name": "stdout",
     "output_type": "stream",
     "text": [
      "Number of outliers: 72\n"
     ]
    },
    {
     "data": {
      "text/plain": [
       "<Figure size 640x480 with 0 Axes>"
      ]
     },
     "metadata": {},
     "output_type": "display_data"
    }
   ],
   "source": [
    "import seaborn as sns\n",
    "import matplotlib.pyplot as plt\n",
    "\n",
    "# Box plot to identify outliers\n",
    "sns.boxplot(x=df[attribute])\n",
    "plt.title('Box Plot of ' + attribute)\n",
    "plt.show()\n",
    "plt.savefig('boxplot.png')\n",
    "\n",
    "# Z-score to identify outliers\n",
    "from scipy import stats\n",
    "z_scores = stats.zscore(df[attribute].dropna())\n",
    "outliers = df[attribute][abs(z_scores) > 3]\n",
    "print(\"Number of outliers:\", outliers.shape[0])\n"
   ]
  },
  {
   "cell_type": "markdown",
   "id": "810ab4fa",
   "metadata": {},
   "source": [
    "# Task 3"
   ]
  },
  {
   "cell_type": "code",
   "execution_count": 9,
   "id": "68d313b5",
   "metadata": {},
   "outputs": [
    {
     "name": "stdout",
     "output_type": "stream",
     "text": [
      "Normalized values of PT08.S1(CO):\n",
      "   PT08.S1(CO)  PT08.S1(CO)_normalized\n",
      "0      1360.00                0.511849\n",
      "1      1292.25                0.463196\n",
      "2      1402.00                0.542011\n",
      "3      1375.50                0.522980\n",
      "4      1272.25                0.448833\n"
     ]
    },
    {
     "name": "stderr",
     "output_type": "stream",
     "text": [
      "C:\\Users\\ASUS\\AppData\\Local\\Temp\\ipykernel_2528\\1415268321.py:15: FutureWarning: Downcasting object dtype arrays on .fillna, .ffill, .bfill is deprecated and will change in a future version. Call result.infer_objects(copy=False) instead. To opt-in to the future behavior, set `pd.set_option('future.no_silent_downcasting', True)`\n",
      "  df[attribute] = df[attribute].fillna(median_value)\n"
     ]
    }
   ],
   "source": [
    "import pandas as pd\n",
    "from sklearn.preprocessing import MinMaxScaler\n",
    "\n",
    "# Load the dataset\n",
    "df = pd.read_excel('AirQualityUCI.xlsx')\n",
    "\n",
    "# Select an attribute for normalization\n",
    "attribute = 'PT08.S1(CO)'\n",
    "\n",
    "# Replace erroneous values (-200) with NaN for proper missing value handling\n",
    "df[attribute] = df[attribute].replace(-200, pd.NA)\n",
    "\n",
    "# Fill missing values in the selected attribute with its median\n",
    "median_value = df[attribute].median()\n",
    "df[attribute] = df[attribute].fillna(median_value)\n",
    "\n",
    "# Normalize the attribute\n",
    "scaler = MinMaxScaler()\n",
    "df[attribute + '_normalized'] = scaler.fit_transform(df[[attribute]])\n",
    "\n",
    "# Print results\n",
    "print(f\"Normalized values of {attribute}:\")\n",
    "print(df[[attribute, attribute + '_normalized']].head())\n"
   ]
  },
  {
   "cell_type": "markdown",
   "id": "8979b583",
   "metadata": {},
   "source": [
    "# Task 4"
   ]
  },
  {
   "cell_type": "code",
   "execution_count": 10,
   "id": "3e4ce83c",
   "metadata": {},
   "outputs": [
    {
     "name": "stdout",
     "output_type": "stream",
     "text": [
      "Pair with maximum similarity: (10, 11)\n",
      "Maximum similarity score: 0.7207\n",
      "\n",
      "Data for the most similar pair:\n",
      "Sample 1:\n",
      "Date             2004-12-09 00:00:00\n",
      "Time                        00:00:00\n",
      "CO(GT)                           1.9\n",
      "PT08.S1(CO)                   1054.0\n",
      "NMHC(GT)                        -200\n",
      "C6H6(GT)                    5.524163\n",
      "PT08.S2(NMHC)                 789.25\n",
      "NOx(GT)                        241.0\n",
      "PT08.S3(NOx)                  886.25\n",
      "NO2(GT)                        100.0\n",
      "PT08.S4(NO2)                 1253.75\n",
      "PT08.S5(O3)                   863.75\n",
      "T                              14.25\n",
      "RH                         71.650002\n",
      "AH                          1.157833\n",
      "Name: 6558, dtype: object\n",
      "\n",
      "Sample 2:\n",
      "Date             2004-11-26 00:00:00\n",
      "Time                        06:00:00\n",
      "CO(GT)                           1.0\n",
      "PT08.S1(CO)                    974.0\n",
      "NMHC(GT)                        -200\n",
      "C6H6(GT)                    4.591495\n",
      "PT08.S2(NMHC)                  742.5\n",
      "NOx(GT)                        203.0\n",
      "PT08.S3(NOx)                   863.5\n",
      "NO2(GT)                         75.0\n",
      "PT08.S4(NO2)                  1154.5\n",
      "PT08.S5(O3)                    884.5\n",
      "T                                9.1\n",
      "RH                             77.25\n",
      "AH                          0.894401\n",
      "Name: 6252, dtype: object\n"
     ]
    }
   ],
   "source": [
    "import pandas as pd\n",
    "import numpy as np\n",
    "from sklearn.metrics.pairwise import euclidean_distances\n",
    "from sklearn.preprocessing import MinMaxScaler\n",
    "\n",
    "# Load the dataset\n",
    "df = pd.read_excel('AirQualityUCI.xlsx')\n",
    "\n",
    "# Sample 20 random data objects\n",
    "sample_df = df.sample(n=20, random_state=42)\n",
    "\n",
    "# Select numerical columns for similarity calculation\n",
    "numerical_cols = ['CO(GT)', 'PT08.S1(CO)', 'NMHC(GT)', 'C6H6(GT)', 'PT08.S2(NMHC)', \n",
    "                   'NOx(GT)', 'PT08.S3(NOx)', 'NO2(GT)', 'PT08.S4(NO2)', 'PT08.S5(O3)', \n",
    "                   'T', 'RH', 'AH']\n",
    "\n",
    "# Fill missing values with the median of each column\n",
    "for col in numerical_cols:\n",
    "    median_value = sample_df[col].median()\n",
    "    sample_df[col] = sample_df[col].fillna(median_value)\n",
    "\n",
    "# Normalize the data\n",
    "scaler = MinMaxScaler()\n",
    "numerical_data_normalized = scaler.fit_transform(sample_df[numerical_cols])\n",
    "\n",
    "# Compute pairwise Euclidean distances\n",
    "distances = euclidean_distances(numerical_data_normalized)\n",
    "\n",
    "# Convert distances to similarity scores\n",
    "similarity_scores = 1 / (1 + distances)  # Adding 1 to avoid division by zero\n",
    "\n",
    "# Find the pair with maximum similarity\n",
    "np.fill_diagonal(similarity_scores, 0)  # Ignore self-similarity\n",
    "max_similarity_idx = np.unravel_index(np.argmax(similarity_scores, axis=None), similarity_scores.shape)\n",
    "max_similarity_score = similarity_scores[max_similarity_idx]\n",
    "\n",
    "# Get the indices of the pair with maximum similarity\n",
    "pair_index_1, pair_index_2 = max_similarity_idx\n",
    "\n",
    "# Display results\n",
    "print(f\"Pair with maximum similarity: ({pair_index_1}, {pair_index_2})\")\n",
    "print(f\"Maximum similarity score: {max_similarity_score:.4f}\")\n",
    "\n",
    "# Display the actual data for the most similar pair\n",
    "print(\"\\nData for the most similar pair:\")\n",
    "print(\"Sample 1:\")\n",
    "print(sample_df.iloc[pair_index_1])\n",
    "print(\"\\nSample 2:\")\n",
    "print(sample_df.iloc[pair_index_2])\n"
   ]
  },
  {
   "cell_type": "markdown",
   "id": "a4be58a4",
   "metadata": {},
   "source": [
    "# Task 5"
   ]
  },
  {
   "cell_type": "code",
   "execution_count": 11,
   "id": "108c9096",
   "metadata": {},
   "outputs": [
    {
     "name": "stdout",
     "output_type": "stream",
     "text": [
      "Pair with maximum similarity before PCA:\n",
      "Indices: (15, 18)\n",
      "Maximum similarity score before PCA: 0.9264\n",
      "\n",
      "Pair with maximum similarity after PCA:\n",
      "Indices: (15, 18)\n",
      "Maximum similarity score after PCA: 0.9791\n",
      "\n",
      "Data for the most similar pair before PCA:\n",
      "Sample 1:\n",
      "0     0.951392\n",
      "1     0.530640\n",
      "2     0.000000\n",
      "3     0.787743\n",
      "4     0.451222\n",
      "5     0.169744\n",
      "6     0.377678\n",
      "7     0.535483\n",
      "8     0.605798\n",
      "9     0.317143\n",
      "10    0.961774\n",
      "11    0.764742\n",
      "12    0.994735\n",
      "Name: 2543, dtype: float64\n",
      "\n",
      "Sample 2:\n",
      "0     0.949033\n",
      "1     0.531421\n",
      "2     0.000000\n",
      "3     0.791496\n",
      "4     0.467896\n",
      "5     0.172126\n",
      "6     0.431879\n",
      "7     0.546600\n",
      "8     0.573361\n",
      "9     0.344780\n",
      "10    0.929886\n",
      "11    0.775132\n",
      "12    0.993210\n",
      "Name: 1945, dtype: float64\n",
      "\n",
      "Data for the most similar pair after PCA:\n",
      "Sample 1:\n",
      "0    0.071535\n",
      "1   -0.117052\n",
      "2   -0.145154\n",
      "3   -0.001698\n",
      "4    0.039171\n",
      "Name: 2543, dtype: float64\n",
      "\n",
      "Sample 2:\n",
      "0    0.074186\n",
      "1   -0.121728\n",
      "2   -0.144009\n",
      "3   -0.022018\n",
      "4    0.035675\n",
      "Name: 1945, dtype: float64\n",
      "\n",
      "Comparison:\n",
      "Maximum similarity score after PCA (0.9791) is greater than before PCA (0.9264).\n"
     ]
    }
   ],
   "source": [
    "import pandas as pd\n",
    "import numpy as np\n",
    "from sklearn.decomposition import PCA\n",
    "from sklearn.preprocessing import MinMaxScaler\n",
    "from sklearn.metrics.pairwise import euclidean_distances\n",
    "\n",
    "# Load the dataset\n",
    "df = pd.read_excel('AirQualityUCI.xlsx')\n",
    "\n",
    "# Select numerical columns for PCA\n",
    "numerical_cols = ['CO(GT)', 'PT08.S1(CO)', 'NMHC(GT)', 'C6H6(GT)', 'PT08.S2(NMHC)', \n",
    "                   'NOx(GT)', 'PT08.S3(NOx)', 'NO2(GT)', 'PT08.S4(NO2)', 'PT08.S5(O3)', \n",
    "                   'T', 'RH', 'AH']\n",
    "\n",
    "# Fill missing values with the median of each column\n",
    "for col in numerical_cols:\n",
    "    median_value = df[col].median()\n",
    "    df[col] = df[col].fillna(median_value)\n",
    "\n",
    "# Normalize the data\n",
    "scaler = MinMaxScaler()\n",
    "numerical_data_normalized = scaler.fit_transform(df[numerical_cols])\n",
    "\n",
    "# Sample 20 random data objects from normalized data\n",
    "sample_df = pd.DataFrame(numerical_data_normalized).sample(n=20, random_state=42)\n",
    "\n",
    "# Compute pairwise Euclidean distances on original normalized data\n",
    "distances_original = euclidean_distances(sample_df)\n",
    "\n",
    "# Convert distances to similarity scores\n",
    "similarity_scores_original = 1 / (1 + distances_original)  # Adding 1 to avoid division by zero\n",
    "\n",
    "# Find the pair with maximum similarity in original normalized data\n",
    "np.fill_diagonal(similarity_scores_original, 0)  # Ignore self-similarity\n",
    "max_similarity_idx_original = np.unravel_index(np.argmax(similarity_scores_original, axis=None), similarity_scores_original.shape)\n",
    "max_similarity_score_original = similarity_scores_original[max_similarity_idx_original]\n",
    "\n",
    "# Get the indices of the pair with maximum similarity\n",
    "pair_index_1_original, pair_index_2_original = max_similarity_idx_original\n",
    "\n",
    "# Print the results before PCA\n",
    "print(\"Pair with maximum similarity before PCA:\")\n",
    "print(f\"Indices: ({pair_index_1_original}, {pair_index_2_original})\")\n",
    "print(f\"Maximum similarity score before PCA: {max_similarity_score_original:.4f}\")\n",
    "\n",
    "# Apply PCA\n",
    "pca = PCA(n_components=5)  # Reduce to 5 dimensions\n",
    "numerical_data_pca = pca.fit_transform(numerical_data_normalized)\n",
    "\n",
    "# Sample 20 random data objects from PCA-reduced data\n",
    "sample_pca_df = pd.DataFrame(numerical_data_pca).sample(n=20, random_state=42)\n",
    "\n",
    "# Compute pairwise Euclidean distances on PCA-reduced data\n",
    "distances_pca = euclidean_distances(sample_pca_df)\n",
    "\n",
    "# Convert distances to similarity scores\n",
    "similarity_scores_pca = 1 / (1 + distances_pca)  # Adding 1 to avoid division by zero\n",
    "\n",
    "# Find the pair with maximum similarity in PCA-reduced data\n",
    "np.fill_diagonal(similarity_scores_pca, 0)  # Ignore self-similarity\n",
    "max_similarity_idx_pca = np.unravel_index(np.argmax(similarity_scores_pca, axis=None), similarity_scores_pca.shape)\n",
    "max_similarity_score_pca = similarity_scores_pca[max_similarity_idx_pca]\n",
    "\n",
    "# Get the indices of the pair with maximum similarity\n",
    "pair_index_1_pca, pair_index_2_pca = max_similarity_idx_pca\n",
    "\n",
    "# Print the results after PCA\n",
    "print(\"\\nPair with maximum similarity after PCA:\")\n",
    "print(f\"Indices: ({pair_index_1_pca}, {pair_index_2_pca})\")\n",
    "print(f\"Maximum similarity score after PCA: {max_similarity_score_pca:.4f}\")\n",
    "\n",
    "# Display the actual data for the most similar pair in original normalized data\n",
    "print(\"\\nData for the most similar pair before PCA:\")\n",
    "print(\"Sample 1:\")\n",
    "print(sample_df.iloc[pair_index_1_original])\n",
    "print(\"\\nSample 2:\")\n",
    "print(sample_df.iloc[pair_index_2_original])\n",
    "\n",
    "# Display the actual data for the most similar pair in PCA-reduced data\n",
    "print(\"\\nData for the most similar pair after PCA:\")\n",
    "print(\"Sample 1:\")\n",
    "print(sample_pca_df.iloc[pair_index_1_pca])\n",
    "print(\"\\nSample 2:\")\n",
    "print(sample_pca_df.iloc[pair_index_2_pca])\n",
    "\n",
    "# Comparison of similarity scores\n",
    "print(\"\\nComparison:\")\n",
    "if max_similarity_score_original > max_similarity_score_pca:\n",
    "    print(f\"Maximum similarity score before PCA ({max_similarity_score_original:.4f}) is greater than after PCA ({max_similarity_score_pca:.4f}).\")\n",
    "elif max_similarity_score_original < max_similarity_score_pca:\n",
    "    print(f\"Maximum similarity score after PCA ({max_similarity_score_pca:.4f}) is greater than before PCA ({max_similarity_score_original:.4f}).\")\n",
    "else:\n",
    "    print(f\"Maximum similarity score before PCA ({max_similarity_score_original:.4f}) is equal to after PCA ({max_similarity_score_pca:.4f}).\")\n"
   ]
  },
  {
   "cell_type": "code",
   "execution_count": null,
   "id": "01e5b804",
   "metadata": {},
   "outputs": [],
   "source": []
  }
 ],
 "metadata": {
  "kernelspec": {
   "display_name": "Python 3 (ipykernel)",
   "language": "python",
   "name": "python3"
  },
  "language_info": {
   "codemirror_mode": {
    "name": "ipython",
    "version": 3
   },
   "file_extension": ".py",
   "mimetype": "text/x-python",
   "name": "python",
   "nbconvert_exporter": "python",
   "pygments_lexer": "ipython3",
   "version": "3.9.19"
  }
 },
 "nbformat": 4,
 "nbformat_minor": 5
}
